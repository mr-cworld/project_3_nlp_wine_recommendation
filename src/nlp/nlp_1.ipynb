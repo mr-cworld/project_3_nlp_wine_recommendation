{
 "cells": [
  {
   "cell_type": "markdown",
   "metadata": {},
   "source": [
    "## Notebook to start expirementing with NLP analysis of Judge description from Translated CSV\n"
   ]
  },
  {
   "cell_type": "code",
   "execution_count": 8,
   "metadata": {},
   "outputs": [],
   "source": [
    "import spacy as sp\n",
    "\n",
    "nlp = sp.load('en_core_web_sm')\n"
   ]
  },
  {
   "cell_type": "code",
   "execution_count": 3,
   "metadata": {},
   "outputs": [],
   "source": [
    "#First Text output \n",
    "sample_text = \"Bright red color and initial aromas dominated by a spicy that coupled with fruity notes were a very interesting set, in the mouth has a pleasant presence, is fresh and delicate, always dominated by fruity notes and with an average end of length but persistent flavor.\"\n",
    "\n",
    "doc = nlp(sample_text)"
   ]
  },
  {
   "cell_type": "code",
   "execution_count": 4,
   "metadata": {},
   "outputs": [
    {
     "name": "stdout",
     "output_type": "stream",
     "text": [
      "['bright', 'red', 'initial', 'interesting', 'pleasant', 'fresh', 'delicate', 'average', 'persistent']\n"
     ]
    }
   ],
   "source": [
    "#Extract all the Adjectives\n",
    "descriptors = [token.text.lower() for token in doc if token.pos_ == \"ADJ\"]\n",
    "\n",
    "print(descriptors)"
   ]
  },
  {
   "cell_type": "code",
   "execution_count": 5,
   "metadata": {},
   "outputs": [
    {
     "name": "stdout",
     "output_type": "stream",
     "text": [
      "red color\n",
      "initial aromas\n",
      "interesting set\n",
      "pleasant presence\n",
      "average end\n",
      "persistent flavor\n"
     ]
    }
   ],
   "source": [
    "#Experimenting with Matcher\n",
    "\n",
    "from spacy.matcher import Matcher\n",
    "\n",
    "matcher = Matcher(nlp.vocab)\n",
    "\n",
    "pattern = [{\"POS\": \"ADJ\"},\n",
    "          {\"IS_STOP\": True, \"OP\": \"?\"},\n",
    "          {\"POS\": \"NOUN\"}]\n",
    "\n",
    "matcher.add(\"ADJ_NOUN_PATTERN\", [pattern])\n",
    "\n",
    "matches = matcher(doc)\n",
    "\n",
    "for match_id, start, end in matches:\n",
    "    span = doc[start:end]\n",
    "    print(span.text)"
   ]
  },
  {
   "cell_type": "code",
   "execution_count": 6,
   "metadata": {},
   "outputs": [],
   "source": [
    "flavor_lexicon = {\n",
    "    \"spicy\": [\"spicy\", \"peppery\", \"cinnamon\", \"clove\", \"nutmeg\"],\n",
    "    \"fruity\": [\"fruity\", \"apple\", \"pear\", \"cherry\", \"strawberry\", \"citrus\"],\n",
    "    \"floral\": [\"floral\", \"rose\", \"violet\", \"lilac\", \"lavender\"],\n",
    "}\n",
    "\n",
    "#need to add earthy, oaky, other common wine categories and descriptors\n"
   ]
  },
  {
   "cell_type": "code",
   "execution_count": 7,
   "metadata": {},
   "outputs": [
    {
     "name": "stdout",
     "output_type": "stream",
     "text": [
      "['spicy', 'fruity', 'fruity']\n"
     ]
    }
   ],
   "source": [
    "extracted_flavors = []\n",
    "\n",
    "for token in doc:\n",
    "    token_text_lower = token.text.lower()\n",
    "    for category, words in flavor_lexicon.items():\n",
    "        if token_text_lower in words:\n",
    "            extracted_flavors.append(category)\n",
    "\n",
    "print(extracted_flavors)"
   ]
  },
  {
   "cell_type": "code",
   "execution_count": 9,
   "metadata": {},
   "outputs": [],
   "source": [
    "#Parse Color, Finish, etc\n",
    "\n",
    "wine_color = None\n",
    "finish_descriptors = []\n",
    "\n",
    "for sent in doc.sents:\n",
    "    if \"color\" in sent.text.lower():\n",
    "        wine_color = \" \".join([t.text for t in sent if t.dep_ == \"amod\" or t.pos_ == \"ADJ\"])\n",
    "    if \"finish\" in sent.text.lower() or \"end\" in sent.text.lower():\n",
    "        finish_descriptors.append(sent.text)"
   ]
  },
  {
   "cell_type": "code",
   "execution_count": 10,
   "metadata": {},
   "outputs": [
    {
     "name": "stdout",
     "output_type": "stream",
     "text": [
      "Bright red initial interesting pleasant fresh delicate average persistent\n",
      "\n",
      "['Bright red color and initial aromas dominated by a spicy that coupled with fruity notes were a very interesting set, in the mouth has a pleasant presence, is fresh and delicate, always dominated by fruity notes and with an average end of length but persistent flavor.']\n"
     ]
    }
   ],
   "source": [
    "print(wine_color)\n",
    "print()\n",
    "print(finish_descriptors)"
   ]
  },
  {
   "cell_type": "code",
   "execution_count": 11,
   "metadata": {},
   "outputs": [
    {
     "name": "stdout",
     "output_type": "stream",
     "text": [
      "{'color': 'Bright red initial interesting pleasant fresh delicate average persistent', 'flavors': ['fruity', 'spicy'], 'finish': ['Bright red color and initial aromas dominated by a spicy that coupled with fruity notes were a very interesting set, in the mouth has a pleasant presence, is fresh and delicate, always dominated by fruity notes and with an average end of length but persistent flavor.']}\n"
     ]
    }
   ],
   "source": [
    "wine_profile = {\n",
    "    \"color\": wine_color,\n",
    "    \"flavors\": list(set(extracted_flavors)),\n",
    "    \"finish\": finish_descriptors,\n",
    "}\n",
    "\n",
    "print(wine_profile)"
   ]
  }
 ],
 "metadata": {
  "kernelspec": {
   "display_name": "dev",
   "language": "python",
   "name": "python3"
  },
  "language_info": {
   "codemirror_mode": {
    "name": "ipython",
    "version": 3
   },
   "file_extension": ".py",
   "mimetype": "text/x-python",
   "name": "python",
   "nbconvert_exporter": "python",
   "pygments_lexer": "ipython3",
   "version": "3.10.14"
  }
 },
 "nbformat": 4,
 "nbformat_minor": 2
}
