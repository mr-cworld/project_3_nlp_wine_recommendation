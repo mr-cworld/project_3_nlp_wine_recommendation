{
 "cells": [
  {
   "cell_type": "code",
   "execution_count": 5,
   "metadata": {},
   "outputs": [
    {
     "name": "stderr",
     "output_type": "stream",
     "text": [
      "c:\\Users\\Johnathan\\anaconda3\\envs\\dev1\\Lib\\site-packages\\gradio\\utils.py:1017: UserWarning: Expected 7 arguments for function <function recommend_wine at 0x000001B29A443060>, received 4.\n",
      "  warnings.warn(\n",
      "c:\\Users\\Johnathan\\anaconda3\\envs\\dev1\\Lib\\site-packages\\gradio\\utils.py:1021: UserWarning: Expected at least 7 arguments for function <function recommend_wine at 0x000001B29A443060>, received 4.\n",
      "  warnings.warn(\n"
     ]
    },
    {
     "name": "stdout",
     "output_type": "stream",
     "text": [
      "* Running on local URL:  http://127.0.0.1:7863\n",
      "\n",
      "Could not create share link. Missing file: c:\\Users\\Johnathan\\anaconda3\\envs\\dev1\\Lib\\site-packages\\gradio\\frpc_windows_amd64_v0.3. \n",
      "\n",
      "Please check your internet connection. This can happen if your antivirus software blocks the download of this file. You can install manually by following these steps: \n",
      "\n",
      "1. Download this file: https://cdn-media.huggingface.co/frpc-gradio-0.3/frpc_windows_amd64.exe\n",
      "2. Rename the downloaded file to: frpc_windows_amd64_v0.3\n",
      "3. Move the file to this location: c:\\Users\\Johnathan\\anaconda3\\envs\\dev1\\Lib\\site-packages\\gradio\n"
     ]
    },
    {
     "data": {
      "text/html": [
       "<div><iframe src=\"http://127.0.0.1:7863/\" width=\"100%\" height=\"500\" allow=\"autoplay; camera; microphone; clipboard-read; clipboard-write;\" frameborder=\"0\" allowfullscreen></iframe></div>"
      ],
      "text/plain": [
       "<IPython.core.display.HTML object>"
      ]
     },
     "metadata": {},
     "output_type": "display_data"
    },
    {
     "data": {
      "text/plain": []
     },
     "execution_count": 5,
     "metadata": {},
     "output_type": "execute_result"
    },
    {
     "name": "stderr",
     "output_type": "stream",
     "text": [
      "c:\\Users\\Johnathan\\anaconda3\\envs\\dev1\\Lib\\site-packages\\gradio\\helpers.py:968: UserWarning: Unexpected argument. Filling with None.\n",
      "  warnings.warn(\"Unexpected argument. Filling with None.\")\n",
      "Traceback (most recent call last):\n",
      "  File \"c:\\Users\\Johnathan\\anaconda3\\envs\\dev1\\Lib\\site-packages\\gradio\\queueing.py\", line 625, in process_events\n",
      "    response = await route_utils.call_process_api(\n",
      "               ^^^^^^^^^^^^^^^^^^^^^^^^^^^^^^^^^^^\n",
      "  File \"c:\\Users\\Johnathan\\anaconda3\\envs\\dev1\\Lib\\site-packages\\gradio\\route_utils.py\", line 322, in call_process_api\n",
      "    output = await app.get_blocks().process_api(\n",
      "             ^^^^^^^^^^^^^^^^^^^^^^^^^^^^^^^^^^^\n",
      "  File \"c:\\Users\\Johnathan\\anaconda3\\envs\\dev1\\Lib\\site-packages\\gradio\\blocks.py\", line 2042, in process_api\n",
      "    result = await self.call_function(\n",
      "             ^^^^^^^^^^^^^^^^^^^^^^^^^\n",
      "  File \"c:\\Users\\Johnathan\\anaconda3\\envs\\dev1\\Lib\\site-packages\\gradio\\blocks.py\", line 1589, in call_function\n",
      "    prediction = await anyio.to_thread.run_sync(  # type: ignore\n",
      "                 ^^^^^^^^^^^^^^^^^^^^^^^^^^^^^^^^^^^^^^^^^^^^^^^\n",
      "  File \"c:\\Users\\Johnathan\\anaconda3\\envs\\dev1\\Lib\\site-packages\\anyio\\to_thread.py\", line 56, in run_sync\n",
      "    return await get_async_backend().run_sync_in_worker_thread(\n",
      "           ^^^^^^^^^^^^^^^^^^^^^^^^^^^^^^^^^^^^^^^^^^^^^^^^^^^^\n",
      "  File \"c:\\Users\\Johnathan\\anaconda3\\envs\\dev1\\Lib\\site-packages\\anyio\\_backends\\_asyncio.py\", line 2134, in run_sync_in_worker_thread\n",
      "    return await future\n",
      "           ^^^^^^^^^^^^\n",
      "  File \"c:\\Users\\Johnathan\\anaconda3\\envs\\dev1\\Lib\\site-packages\\anyio\\_backends\\_asyncio.py\", line 851, in run\n",
      "    result = context.run(func, *args)\n",
      "             ^^^^^^^^^^^^^^^^^^^^^^^^\n",
      "  File \"c:\\Users\\Johnathan\\anaconda3\\envs\\dev1\\Lib\\site-packages\\gradio\\utils.py\", line 883, in wrapper\n",
      "    response = f(*args, **kwargs)\n",
      "               ^^^^^^^^^^^^^^^^^^\n",
      "  File \"C:\\Users\\Johnathan\\AppData\\Local\\Temp\\ipykernel_332368\\3288295721.py\", line 28, in recommend_wine\n",
      "    (wine_data['ABV (%)'] >= abv_range[0]) & (wine_data['ABV (%)'] <= abv_range[1]) &\n",
      "                             ~~~~~~~~~^^^\n",
      "TypeError: 'NoneType' object is not subscriptable\n"
     ]
    }
   ],
   "source": [
    "import gradio as gr\n",
    "import pandas as pd\n",
    "\n",
    "# Load the wine dataset\n",
    "file_path = \"../Resources/BlogOsVinhosTranslated.csv\"\n",
    "wine_data = pd.read_csv(file_path)\n",
    "\n",
    "# Process dataset for recommendations\n",
    "wine_data = wine_data.rename(columns={\n",
    "    \"Name\": \"Wine Name\",\n",
    "    \"Color\": \"Wine Type\",\n",
    "    \"Alcohol_Percentage\": \"ABV (%)\",\n",
    "    \"Min_Price\": \"Min Price ($)\",\n",
    "    \"Max_Price\": \"Max Price ($)\",\n",
    "    \"Review_Notes\": \"Description\",\n",
    "    \"URL\": \"Image URL\"\n",
    "})\n",
    "\n",
    "# Calculate average price for better filtering\n",
    "wine_data[\"Price ($)\"] = wine_data[[\"Min Price ($)\", \"Max Price ($)\"]].mean(axis=1)\n",
    "# Drop unnecessary columns\n",
    "wine_data = wine_data.drop(columns=[\"Min Price ($)\", \"Max Price ($)\"])\n",
    "\n",
    "def recommend_wine(wine_type, body, acidity, sweetness, price_range, abv_range, food_pairing):\n",
    "    \"\"\"Filters wine based on user preferences.\"\"\"\n",
    "    filtered_wines = wine_data[\n",
    "        (wine_data['Wine Type'] == wine_type) &\n",
    "        (wine_data['ABV (%)'] >= abv_range[0]) & (wine_data['ABV (%)'] <= abv_range[1]) &\n",
    "        (wine_data['Price ($)'] >= price_range[0]) & (wine_data['Price ($)'] <= price_range[1])\n",
    "    ]\n",
    "    \n",
    "    if filtered_wines.empty:\n",
    "        return \"No wines match your criteria. Try adjusting your preferences.\", None\n",
    "    \n",
    "    results = []\n",
    "    for _, row in filtered_wines.iterrows():\n",
    "        results.append((row['Wine Name'], row['Image URL']))\n",
    "    \n",
    "    return results\n",
    "\n",
    "# UI Layout\n",
    "demo = gr.Interface(\n",
    "    fn=recommend_wine,\n",
    "    inputs=[\n",
    "        gr.Dropdown(label=\"Wine Type\", choices=[\"Red\", \"White\", \"Rosé\", \"Sparkling\"]),\n",
    "        gr.Slider(label=\"Price Range ($)\", minimum=10, maximum=200, value=[10, 50], step=5),\n",
    "        gr.Slider(label=\"ABV Range (%)\", minimum=10, maximum=16, value=[10, 14], step=0.5),\n",
    "        gr.Dropdown(label=\"Food Pairing (Optional)\", choices=[\"None\", \"Steak\", \"Pasta\", \"Seafood\", \"Cheese\"]),\n",
    "    ],\n",
    "    outputs=gr.Gallery(label=\"Recommended Wines\", type=\"image\"),\n",
    "    title=\"🍷 Wine Recommendation System\",\n",
    "    description=\"Select your wine preferences and get recommendations. Optionally, choose a food pairing for better matches.\",\n",
    ")\n",
    "\n",
    "demo.launch(share=True)"
   ]
  }
 ],
 "metadata": {
  "kernelspec": {
   "display_name": "dev1",
   "language": "python",
   "name": "python3"
  },
  "language_info": {
   "codemirror_mode": {
    "name": "ipython",
    "version": 3
   },
   "file_extension": ".py",
   "mimetype": "text/x-python",
   "name": "python",
   "nbconvert_exporter": "python",
   "pygments_lexer": "ipython3",
   "version": "3.12.3"
  }
 },
 "nbformat": 4,
 "nbformat_minor": 2
}
