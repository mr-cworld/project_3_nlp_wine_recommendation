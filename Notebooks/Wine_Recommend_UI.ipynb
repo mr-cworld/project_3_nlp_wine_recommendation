{
 "cells": [
  {
   "cell_type": "code",
   "execution_count": 37,
   "metadata": {},
   "outputs": [],
   "source": [
    "#Imports\n",
    "import os\n",
    "import gradio as gr\n",
    "import google.generativeai as genai\n",
    "from dotenv import load_dotenv\n",
    "import pandas as pd\n"
   ]
  },
  {
   "cell_type": "code",
   "execution_count": 38,
   "metadata": {},
   "outputs": [
    {
     "data": {
      "text/plain": [
       "True"
      ]
     },
     "execution_count": 38,
     "metadata": {},
     "output_type": "execute_result"
    }
   ],
   "source": [
    "# Load environment variables from .env file\n",
    "load_dotenv()"
   ]
  },
  {
   "cell_type": "code",
   "execution_count": 39,
   "metadata": {},
   "outputs": [],
   "source": [
    "#Adjustable weights for aroma\n",
    "aroma_weight = 0.5\n",
    "\n",
    "# Placeholder for future commercial enhancements\n",
    "# ------------------------------------------------\n",
    "# In future versions, we may introduce dynamic weighting for aroma influence.\n",
    "# This could allow:\n",
    "# - Adjusting recommendations based on user engagement data.\n",
    "# - Sponsored wines to have higher weight in AI-driven suggestions.\n",
    "# - Adaptive learning to refine preferences over time.\n",
    "# To implement, consider replacing `aroma_weight` with a dynamic function.\n",
    "# ------------------------------------------------\n"
   ]
  },
  {
   "cell_type": "code",
   "execution_count": 40,
   "metadata": {},
   "outputs": [],
   "source": [
    "# Retrieve the API key\n",
    "api_key = os.getenv(\"Gemini_API_Key\")\n",
    "if not api_key:\n",
    "    raise ValueError(\"API key not found. Ensure 'Gemini_API_Key' is correctly set in the .env file.\")\n",
    "\n",
    "genai.configure(api_key=api_key)"
   ]
  },
  {
   "cell_type": "code",
   "execution_count": 41,
   "metadata": {},
   "outputs": [],
   "source": [
    "# Load the wine dataset\n",
    "nlp_file_path = \"../Resources/nlp_3.1_final.csv\"\n",
    "wine_df = pd.read_csv(nlp_file_path)"
   ]
  },
  {
   "cell_type": "code",
   "execution_count": 42,
   "metadata": {},
   "outputs": [],
   "source": [
    "# Extract unique attribute options\n",
    "color_options = wine_df[\"color\"].explode().unique().tolist()\n",
    "aroma_options = wine_df[\"aromas\"].explode().unique().tolist()\n",
    "flavor_options = wine_df[\"flavors\"].explode().unique().tolist()\n",
    "body_options = [\"Light-bodied\", \"Medium-bodied\", \"Full-bodied\"] #added for body options may need to be extracted from the dataset\n"
   ]
  },
  {
   "cell_type": "code",
   "execution_count": 43,
   "metadata": {},
   "outputs": [],
   "source": [
    "#Finalized Wine Color Options with Descriptions\n",
    "wine_colors = {\n",
    "    \"Red\": \"Ranges from light (garnet) to deep (opaque) reds. Full-bodied reds tend to have higher tannins.\",\n",
    "    \"White\": \"Ranges from clear to golden hues, with fuller-bodied whites having a richer color due to oak aging.\",\n",
    "    \"Rosé\": \"Varies from pale salmon to magenta, depending on grape variety and skin contact time.\",\n",
    "    \"Orange\": \"A white wine made with extended skin contact, giving it a deep amber color.\",\n",
    "    \"Sparkling\": \"Can be white, rosé, or even red with effervescence from natural carbonation.\"\n",
    "}"
   ]
  },
  {
   "cell_type": "code",
   "execution_count": null,
   "metadata": {},
   "outputs": [],
   "source": [
    "#Aromor Options\n",
    "#We can farm this data from the dataset during cleanup if we want to use it directly\n",
    "aroma_options = [\n",
    "    \"Fruity White Wine - Citrus\",\n",
    "    \"Fruity White Wine - White Berries\",\n",
    "    \"Fruity White Wine - Pome Fruits\",\n",
    "    \"Fruity White Wine - Stone Fruits\",\n",
    "    \"Fruity White Wine - Tropical Fruits\",\n",
    "    \"Fruity White Wine - Botrytized\",\n",
    "    \"Fruity Red Wine - Tropical Fruits\",\n",
    "    \"Fruity Red Wine - Red Berries\",\n",
    "    \"Fruity Red Wine - Stone Fruits\",\n",
    "    \"Fruity Red Wine - Fortified\",\n",
    "    \"Floral - White Flowers\",\n",
    "    \"Floral - Colored Flowers\",\n",
    "    \"Vegetal - Vegetables\",\n",
    "    \"Vegetal - Fresh Herbs\",\n",
    "    \"Vegetal - Dried Herbs\",\n",
    "    \"Vegetal - Leaves\",\n",
    "    \"Maturation in Oak Barrel - Woods\",\n",
    "    \"Maturation in Oak Barrel - Nuts\",\n",
    "    \"Maturation in Oak Barrel - Spices\",\n",
    "    \"Maturation in Oak Barrel - Toasted\"\n",
    "]"
   ]
  },
  {
   "cell_type": "code",
   "execution_count": 45,
   "metadata": {},
   "outputs": [],
   "source": [
    "#Price Selection (Dropdown with explicit ranges)\n",
    "price_options = {\n",
    "    \"$1 - $9.99\": \"Budget-friendly wines, great for casual drinking.\",\n",
    "    \"$10 - $99.99\": \"Standard quality wines, suitable for most occasions.\",\n",
    "    \"$100 - $999.99\": \"Premium and high-quality wines for special occasions.\",\n",
    "    \"$1000+\": \"Rare, collectible, and investment-grade wines.\"\n",
    "}"
   ]
  },
  {
   "cell_type": "code",
   "execution_count": 46,
   "metadata": {},
   "outputs": [],
   "source": [
    "# Wine Recommendation Function\n",
    "def get_wine_recommendation(wine_color, flavor_profile, aroma, sweetness, body, price_range):\n",
    "    \"\"\"First searches the dataset for a wine recommendation. If no match, use Gemini AI.\"\"\"\n",
    "    \n",
    "    # Filter dataset based on user inputs\n",
    "    filtered_wines = wine_df[\n",
    "        wine_df[\"color\"].apply(lambda x: wine_color in x) &\n",
    "        wine_df[\"flavors\"].apply(lambda x: flavor_profile in x) &\n",
    "        wine_df[\"aromas\"].apply(lambda x: aroma in x)\n",
    "    ]\n",
    "    \n",
    "  # If we find a matching wine in the dataset\n",
    "    if not filtered_wines.empty:\n",
    "        recommended_wine = filtered_wines.sample(1).iloc[0]\n",
    "        wine_recommendation = f\"Recommended Wine: {recommended_wine['color']} - Aromas: {recommended_wine['aromas']} - Flavors: {', '.join(recommended_wine['flavors'].strip('[]').replace(\"'\", \"\").split(','))} - Body: {body} - Price Range: {price_range}\"\n",
    "    else:\n",
    "        # If no exact match, use Gemini AI\n",
    "        prompt = f\"\"\"\n",
    "        You are a wine expert. Based on the following attributes, recommend a wine:\n",
    "        - Wine Color: {wine_color}\n",
    "        - Flavor Profile: {flavor_profile}\n",
    "        - Aroma: {aroma}\n",
    "        - Sweetness Level: {sweetness}\n",
    "        - Body: {body}\n",
    "        - Price Range: {price_range}\n",
    "        Provide the best wine recommendation.\n",
    "        \"\"\"\n",
    "        model = genai.GenerativeModel(\"gemini-pro\")\n",
    "        response = model.generate_content(prompt)\n",
    "        wine_recommendation = response.text\n",
    "    \n",
    "    return wine_recommendation\n",
    "\n"
   ]
  },
  {
   "cell_type": "code",
   "execution_count": 47,
   "metadata": {},
   "outputs": [],
   "source": [
    "#UI Function Placeholder(obsolte)\n",
    "# def recommend_wine(wine_color, aroma, sweetness, price_range):\n",
    "#     description = f\"You selected a {wine_color} wine. {wine_colors[wine_color]}\\n\"\n",
    "#     description += f\"Aroma Preference: {aroma}\\n\"\n",
    "#     description += f\"Sweetness Level: {sweetness} (0 = Dry, 10 = Very Sweet)\\n\"\n",
    "#     description += f\"Price Range: {price_range} - {price_options[price_range]}\\n\"\n",
    "#     description += \"\\nGenerating best wine recommendation based on your preferences...\"\n",
    "#     return description"
   ]
  },
  {
   "cell_type": "code",
   "execution_count": 48,
   "metadata": {},
   "outputs": [
    {
     "name": "stdout",
     "output_type": "stream",
     "text": [
      "* Running on local URL:  http://127.0.0.1:7863\n",
      "\n",
      "To create a public link, set `share=True` in `launch()`.\n"
     ]
    },
    {
     "data": {
      "text/html": [
       "<div><iframe src=\"http://127.0.0.1:7863/\" width=\"100%\" height=\"500\" allow=\"autoplay; camera; microphone; clipboard-read; clipboard-write;\" frameborder=\"0\" allowfullscreen></iframe></div>"
      ],
      "text/plain": [
       "<IPython.core.display.HTML object>"
      ]
     },
     "metadata": {},
     "output_type": "display_data"
    },
    {
     "data": {
      "text/plain": []
     },
     "execution_count": 48,
     "metadata": {},
     "output_type": "execute_result"
    }
   ],
   "source": [
    "# Build Gradio UI\n",
    "demo = gr.Interface(\n",
    "    fn=get_wine_recommendation,\n",
    "    inputs=[\n",
    "        gr.Dropdown(list(wine_colors.keys()), label=\"Wine Color\"),\n",
    "        gr.Dropdown(aroma_options, label=\"Aroma Preference\"),\n",
    "        gr.Dropdown(flavor_options, label=\"Flavor Profile\"),\n",
    "        gr.Slider(0, 10, step=1, label=\"Sweetness Level (0 = Dry, 10 = Very Sweet)\"),\n",
    "        gr.Dropdown(body_options, label=\"Wine Body\"),\n",
    "        gr.Dropdown(list(price_options.keys()), label=\"Price Range\")\n",
    "    ],\n",
    "    outputs=gr.Textbox(label=\"Wine Recommendation\")\n",
    ")\n",
    "\n",
    "demo.launch()"
   ]
  }
 ],
 "metadata": {
  "kernelspec": {
   "display_name": "dev1",
   "language": "python",
   "name": "python3"
  },
  "language_info": {
   "codemirror_mode": {
    "name": "ipython",
    "version": 3
   },
   "file_extension": ".py",
   "mimetype": "text/x-python",
   "name": "python",
   "nbconvert_exporter": "python",
   "pygments_lexer": "ipython3",
   "version": "3.12.3"
  }
 },
 "nbformat": 4,
 "nbformat_minor": 2
}
