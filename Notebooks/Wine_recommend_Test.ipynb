{
 "cells": [
  {
   "cell_type": "code",
   "execution_count": 2,
   "metadata": {},
   "outputs": [
    {
     "name": "stdout",
     "output_type": "stream",
     "text": [
      "* Running on local URL:  http://127.0.0.1:7861\n",
      "\n",
      "To create a public link, set `share=True` in `launch()`.\n"
     ]
    },
    {
     "data": {
      "text/html": [
       "<div><iframe src=\"http://127.0.0.1:7861/\" width=\"100%\" height=\"500\" allow=\"autoplay; camera; microphone; clipboard-read; clipboard-write;\" frameborder=\"0\" allowfullscreen></iframe></div>"
      ],
      "text/plain": [
       "<IPython.core.display.HTML object>"
      ]
     },
     "metadata": {},
     "output_type": "display_data"
    },
    {
     "data": {
      "text/plain": []
     },
     "execution_count": 2,
     "metadata": {},
     "output_type": "execute_result"
    },
    {
     "name": "stderr",
     "output_type": "stream",
     "text": [
      "Traceback (most recent call last):\n",
      "  File \"c:\\Users\\Johnathan\\anaconda3\\envs\\dev1\\Lib\\site-packages\\gradio\\queueing.py\", line 625, in process_events\n",
      "    response = await route_utils.call_process_api(\n",
      "               ^^^^^^^^^^^^^^^^^^^^^^^^^^^^^^^^^^^\n",
      "  File \"c:\\Users\\Johnathan\\anaconda3\\envs\\dev1\\Lib\\site-packages\\gradio\\route_utils.py\", line 322, in call_process_api\n",
      "    output = await app.get_blocks().process_api(\n",
      "             ^^^^^^^^^^^^^^^^^^^^^^^^^^^^^^^^^^^\n",
      "  File \"c:\\Users\\Johnathan\\anaconda3\\envs\\dev1\\Lib\\site-packages\\gradio\\blocks.py\", line 2042, in process_api\n",
      "    result = await self.call_function(\n",
      "             ^^^^^^^^^^^^^^^^^^^^^^^^^\n",
      "  File \"c:\\Users\\Johnathan\\anaconda3\\envs\\dev1\\Lib\\site-packages\\gradio\\blocks.py\", line 1589, in call_function\n",
      "    prediction = await anyio.to_thread.run_sync(  # type: ignore\n",
      "                 ^^^^^^^^^^^^^^^^^^^^^^^^^^^^^^^^^^^^^^^^^^^^^^^\n",
      "  File \"c:\\Users\\Johnathan\\anaconda3\\envs\\dev1\\Lib\\site-packages\\anyio\\to_thread.py\", line 56, in run_sync\n",
      "    return await get_async_backend().run_sync_in_worker_thread(\n",
      "           ^^^^^^^^^^^^^^^^^^^^^^^^^^^^^^^^^^^^^^^^^^^^^^^^^^^^\n",
      "  File \"c:\\Users\\Johnathan\\anaconda3\\envs\\dev1\\Lib\\site-packages\\anyio\\_backends\\_asyncio.py\", line 2134, in run_sync_in_worker_thread\n",
      "    return await future\n",
      "           ^^^^^^^^^^^^\n",
      "  File \"c:\\Users\\Johnathan\\anaconda3\\envs\\dev1\\Lib\\site-packages\\anyio\\_backends\\_asyncio.py\", line 851, in run\n",
      "    result = context.run(func, *args)\n",
      "             ^^^^^^^^^^^^^^^^^^^^^^^^\n",
      "  File \"c:\\Users\\Johnathan\\anaconda3\\envs\\dev1\\Lib\\site-packages\\gradio\\utils.py\", line 883, in wrapper\n",
      "    response = f(*args, **kwargs)\n",
      "               ^^^^^^^^^^^^^^^^^^\n",
      "  File \"C:\\Users\\Johnathan\\AppData\\Local\\Temp\\ipykernel_41832\\3337213764.py\", line 21, in get_food_pairing\n",
      "    response = genai.generate_text(model=\"gemini-pro\", prompt=prompt)\n",
      "               ^^^^^^^^^^^^^^^^^^^\n",
      "AttributeError: module 'google.generativeai' has no attribute 'generate_text'\n",
      "Traceback (most recent call last):\n",
      "  File \"c:\\Users\\Johnathan\\anaconda3\\envs\\dev1\\Lib\\site-packages\\gradio\\queueing.py\", line 625, in process_events\n",
      "    response = await route_utils.call_process_api(\n",
      "               ^^^^^^^^^^^^^^^^^^^^^^^^^^^^^^^^^^^\n",
      "  File \"c:\\Users\\Johnathan\\anaconda3\\envs\\dev1\\Lib\\site-packages\\gradio\\route_utils.py\", line 322, in call_process_api\n",
      "    output = await app.get_blocks().process_api(\n",
      "             ^^^^^^^^^^^^^^^^^^^^^^^^^^^^^^^^^^^\n",
      "  File \"c:\\Users\\Johnathan\\anaconda3\\envs\\dev1\\Lib\\site-packages\\gradio\\blocks.py\", line 2042, in process_api\n",
      "    result = await self.call_function(\n",
      "             ^^^^^^^^^^^^^^^^^^^^^^^^^\n",
      "  File \"c:\\Users\\Johnathan\\anaconda3\\envs\\dev1\\Lib\\site-packages\\gradio\\blocks.py\", line 1589, in call_function\n",
      "    prediction = await anyio.to_thread.run_sync(  # type: ignore\n",
      "                 ^^^^^^^^^^^^^^^^^^^^^^^^^^^^^^^^^^^^^^^^^^^^^^^\n",
      "  File \"c:\\Users\\Johnathan\\anaconda3\\envs\\dev1\\Lib\\site-packages\\anyio\\to_thread.py\", line 56, in run_sync\n",
      "    return await get_async_backend().run_sync_in_worker_thread(\n",
      "           ^^^^^^^^^^^^^^^^^^^^^^^^^^^^^^^^^^^^^^^^^^^^^^^^^^^^\n",
      "  File \"c:\\Users\\Johnathan\\anaconda3\\envs\\dev1\\Lib\\site-packages\\anyio\\_backends\\_asyncio.py\", line 2134, in run_sync_in_worker_thread\n",
      "    return await future\n",
      "           ^^^^^^^^^^^^\n",
      "  File \"c:\\Users\\Johnathan\\anaconda3\\envs\\dev1\\Lib\\site-packages\\anyio\\_backends\\_asyncio.py\", line 851, in run\n",
      "    result = context.run(func, *args)\n",
      "             ^^^^^^^^^^^^^^^^^^^^^^^^\n",
      "  File \"c:\\Users\\Johnathan\\anaconda3\\envs\\dev1\\Lib\\site-packages\\gradio\\utils.py\", line 883, in wrapper\n",
      "    response = f(*args, **kwargs)\n",
      "               ^^^^^^^^^^^^^^^^^^\n",
      "  File \"C:\\Users\\Johnathan\\AppData\\Local\\Temp\\ipykernel_41832\\3337213764.py\", line 21, in get_food_pairing\n",
      "    response = genai.generate_text(model=\"gemini-pro\", prompt=prompt)\n",
      "               ^^^^^^^^^^^^^^^^^^^\n",
      "AttributeError: module 'google.generativeai' has no attribute 'generate_text'\n",
      "Traceback (most recent call last):\n",
      "  File \"c:\\Users\\Johnathan\\anaconda3\\envs\\dev1\\Lib\\site-packages\\gradio\\queueing.py\", line 625, in process_events\n",
      "    response = await route_utils.call_process_api(\n",
      "               ^^^^^^^^^^^^^^^^^^^^^^^^^^^^^^^^^^^\n",
      "  File \"c:\\Users\\Johnathan\\anaconda3\\envs\\dev1\\Lib\\site-packages\\gradio\\route_utils.py\", line 322, in call_process_api\n",
      "    output = await app.get_blocks().process_api(\n",
      "             ^^^^^^^^^^^^^^^^^^^^^^^^^^^^^^^^^^^\n",
      "  File \"c:\\Users\\Johnathan\\anaconda3\\envs\\dev1\\Lib\\site-packages\\gradio\\blocks.py\", line 2042, in process_api\n",
      "    result = await self.call_function(\n",
      "             ^^^^^^^^^^^^^^^^^^^^^^^^^\n",
      "  File \"c:\\Users\\Johnathan\\anaconda3\\envs\\dev1\\Lib\\site-packages\\gradio\\blocks.py\", line 1589, in call_function\n",
      "    prediction = await anyio.to_thread.run_sync(  # type: ignore\n",
      "                 ^^^^^^^^^^^^^^^^^^^^^^^^^^^^^^^^^^^^^^^^^^^^^^^\n",
      "  File \"c:\\Users\\Johnathan\\anaconda3\\envs\\dev1\\Lib\\site-packages\\anyio\\to_thread.py\", line 56, in run_sync\n",
      "    return await get_async_backend().run_sync_in_worker_thread(\n",
      "           ^^^^^^^^^^^^^^^^^^^^^^^^^^^^^^^^^^^^^^^^^^^^^^^^^^^^\n",
      "  File \"c:\\Users\\Johnathan\\anaconda3\\envs\\dev1\\Lib\\site-packages\\anyio\\_backends\\_asyncio.py\", line 2134, in run_sync_in_worker_thread\n",
      "    return await future\n",
      "           ^^^^^^^^^^^^\n",
      "  File \"c:\\Users\\Johnathan\\anaconda3\\envs\\dev1\\Lib\\site-packages\\anyio\\_backends\\_asyncio.py\", line 851, in run\n",
      "    result = context.run(func, *args)\n",
      "             ^^^^^^^^^^^^^^^^^^^^^^^^\n",
      "  File \"c:\\Users\\Johnathan\\anaconda3\\envs\\dev1\\Lib\\site-packages\\gradio\\utils.py\", line 883, in wrapper\n",
      "    response = f(*args, **kwargs)\n",
      "               ^^^^^^^^^^^^^^^^^^\n",
      "  File \"C:\\Users\\Johnathan\\AppData\\Local\\Temp\\ipykernel_41832\\3337213764.py\", line 21, in get_food_pairing\n",
      "    response = genai.generate_text(model=\"gemini-pro\", prompt=prompt)\n",
      "               ^^^^^^^^^^^^^^^^^^^\n",
      "AttributeError: module 'google.generativeai' has no attribute 'generate_text'\n"
     ]
    }
   ],
   "source": [
    "import gradio as gr\n",
    "import google.generativeai as genai\n",
    "\n",
    "# Configure Gemini API (Replace with your API Key)\n",
    "genai.configure(api_key=\"Gemini_API_Key\")\n",
    "\n",
    "def get_food_pairing(wine_color, flavor_profile, aroma, sweetness):\n",
    "    \"\"\"Generates food pairing suggestions using Google Gemini AI.\"\"\"\n",
    "    \n",
    "    prompt = f\"\"\"\n",
    "    You are a wine expert. Based on the following wine attributes, suggest the best food pairings:\n",
    "    \n",
    "    - **Wine Color**: {wine_color}\n",
    "    - **Flavor Profile**: {flavor_profile}\n",
    "    - **Aroma**: {aroma}\n",
    "    - **Sweetness Level**: {sweetness}\n",
    "    \n",
    "    Suggest 3 food pairings, including a protein dish, a vegetarian option, and a dessert. Explain why each pairing works.\n",
    "    \"\"\"\n",
    "    \n",
    "    response = genai.generate_text(model=\"gemini-pro\", prompt=prompt)\n",
    "    return response.text\n",
    "\n",
    "# Create Gradio UI\n",
    "demo = gr.Interface(\n",
    "    fn=get_food_pairing,\n",
    "    inputs=[\n",
    "        gr.Dropdown(label=\"Wine Color\", choices=[\"Red\", \"White\", \"Rosé\", \"Sparkling\"]),\n",
    "        gr.Textbox(label=\"Flavor Profile (e.g., Fruity, Oaky, Spicy)\"),\n",
    "        gr.Textbox(label=\"Aroma (e.g., Citrus, Berry, Floral)\"),\n",
    "        gr.Dropdown(label=\"Sweetness\", choices=[\"Dry\", \"Off-Dry\", \"Sweet\"]),\n",
    "    ],\n",
    "    outputs=gr.Textbox(label=\"Suggested Food Pairings\"),\n",
    "    title=\"🍷 AI Wine & Food Pairing Assistant\",\n",
    "    description=\"Select wine attributes and let AI recommend the best food pairings!\"\n",
    ")\n",
    "\n",
    "demo.launch()"
   ]
  }
 ],
 "metadata": {
  "kernelspec": {
   "display_name": "dev1",
   "language": "python",
   "name": "python3"
  },
  "language_info": {
   "codemirror_mode": {
    "name": "ipython",
    "version": 3
   },
   "file_extension": ".py",
   "mimetype": "text/x-python",
   "name": "python",
   "nbconvert_exporter": "python",
   "pygments_lexer": "ipython3",
   "version": "3.12.3"
  }
 },
 "nbformat": 4,
 "nbformat_minor": 2
}
